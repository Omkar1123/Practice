{
  "nbformat": 4,
  "nbformat_minor": 0,
  "metadata": {
    "colab": {
      "provenance": [],
      "authorship_tag": "ABX9TyOlWtWbX+w6h/kaZ7HRcrFV",
      "include_colab_link": true
    },
    "kernelspec": {
      "name": "python3",
      "display_name": "Python 3"
    },
    "language_info": {
      "name": "python"
    }
  },
  "cells": [
    {
      "cell_type": "markdown",
      "metadata": {
        "id": "view-in-github",
        "colab_type": "text"
      },
      "source": [
        "<a href=\"https://colab.research.google.com/github/Omkar1123/Practice/blob/main/Practice.ipynb\" target=\"_parent\"><img src=\"https://colab.research.google.com/assets/colab-badge.svg\" alt=\"Open In Colab\"/></a>"
      ]
    },
    {
      "cell_type": "code",
      "execution_count": null,
      "metadata": {
        "colab": {
          "base_uri": "https://localhost:8080/"
        },
        "id": "1NoWhVkW3ulm",
        "outputId": "33b9fb35-470b-4cb3-d914-7ed5f4b5c9f8"
      },
      "outputs": [
        {
          "output_type": "stream",
          "name": "stdout",
          "text": [
            "xxxxx\n",
            "xx\n",
            "xxxxx\n",
            "xx\n",
            "xx\n"
          ]
        }
      ],
      "source": [
        "numbers = [5,2,5,2,2]\n",
        "for i in numbers:\n",
        "  output = ''\n",
        "  for y in range(i):\n",
        "    output += 'x'\n",
        "  print(output)"
      ]
    },
    {
      "cell_type": "code",
      "source": [
        "numbers = [10,20,30,40,40]\n",
        "ma = numbers[0]\n",
        "for i in numbers:\n",
        "  if ma<i:\n",
        "    ma = i\n",
        "print(ma)"
      ],
      "metadata": {
        "colab": {
          "base_uri": "https://localhost:8080/"
        },
        "id": "OyBeLvZg_Ky_",
        "outputId": "2605b4c3-5290-4c21-e34d-d67ed1547bef"
      },
      "execution_count": null,
      "outputs": [
        {
          "output_type": "stream",
          "name": "stdout",
          "text": [
            "40\n"
          ]
        }
      ]
    },
    {
      "cell_type": "code",
      "source": [
        "num = [2,2,4,6,4,8,9]\n",
        "unum = []\n",
        "for i in num:\n",
        "  if i not in unum:\n",
        "    unum.append(i)\n",
        "print(unum)\n"
      ],
      "metadata": {
        "colab": {
          "base_uri": "https://localhost:8080/"
        },
        "id": "s87HuBz0BrUp",
        "outputId": "abd0d495-c663-48ee-c234-b3a7d85c74eb"
      },
      "execution_count": null,
      "outputs": [
        {
          "output_type": "stream",
          "name": "stdout",
          "text": [
            "[2, 4, 6, 8, 9]\n"
          ]
        }
      ]
    },
    {
      "cell_type": "code",
      "source": [
        "phone = input(\"phone: \")\n",
        "dict = {\n",
        "    \"1\": \"One\",\n",
        "    \"2\": \"Two\",\n",
        "    \"3\": \"Three\",\n",
        "    \"4\": \"Four\",\n",
        "}\n",
        "output = \"\"\n",
        "for i in phone:\n",
        "  output += \" \"+dict.get(i,\"!\")\n",
        "print(output)"
      ],
      "metadata": {
        "colab": {
          "base_uri": "https://localhost:8080/"
        },
        "id": "RatngsAWEBXd",
        "outputId": "61445d32-a46f-4c75-8ab1-02e645525634"
      },
      "execution_count": null,
      "outputs": [
        {
          "output_type": "stream",
          "name": "stdout",
          "text": [
            "phone: 2431\n",
            " Two Four Three One\n"
          ]
        }
      ]
    },
    {
      "cell_type": "code",
      "source": [
        "def square(number):\n",
        "  value = number * number\n",
        "  return value\n",
        "square(5)"
      ],
      "metadata": {
        "colab": {
          "base_uri": "https://localhost:8080/"
        },
        "id": "OObpD5ZxLzLS",
        "outputId": "74e166e7-2578-43b8-b49a-8df4d8c2cb71"
      },
      "execution_count": null,
      "outputs": [
        {
          "output_type": "execute_result",
          "data": {
            "text/plain": [
              "25"
            ]
          },
          "metadata": {},
          "execution_count": 13
        }
      ]
    },
    {
      "cell_type": "code",
      "source": [
        "def swapele(newList):\n",
        "  size = len(newList)\n",
        "  temp = newList[0]\n",
        "  newList[0] = newList[size-1]\n",
        "  newList[size-1] = temp\n",
        "  return newList\n",
        "\n",
        "newList = [1,2,3]\n",
        "print(swapele(newList))"
      ],
      "metadata": {
        "colab": {
          "base_uri": "https://localhost:8080/"
        },
        "id": "DMFel1bH81oi",
        "outputId": "62dc49d9-5128-4b32-c833-6d37fc8191f6"
      },
      "execution_count": null,
      "outputs": [
        {
          "output_type": "stream",
          "name": "stdout",
          "text": [
            "[3, 2, 1]\n"
          ]
        }
      ]
    },
    {
      "cell_type": "code",
      "source": [
        "def swapele(newList):\n",
        "  newList[0],newList[-1] = newList[-1],newList[0]\n",
        "  return newList\n",
        "\n",
        "newList = [25,30,12,45,64]\n",
        "print(swapele(newList))"
      ],
      "metadata": {
        "colab": {
          "base_uri": "https://localhost:8080/"
        },
        "id": "P9xN0Ofg9qVY",
        "outputId": "239387f9-d3b5-4024-b7e5-5b5b150d1afb"
      },
      "execution_count": null,
      "outputs": [
        {
          "output_type": "stream",
          "name": "stdout",
          "text": [
            "[64, 30, 12, 45, 25]\n"
          ]
        }
      ]
    },
    {
      "cell_type": "code",
      "source": [
        "def swapele(list):\n",
        "  first,*middle,last = list\n",
        "  list = [last,*middle,first]\n",
        "  return list\n",
        "\n",
        "\n",
        "list = [1, 2, 3, 4]\n",
        "print(swapele(list))\n"
      ],
      "metadata": {
        "colab": {
          "base_uri": "https://localhost:8080/"
        },
        "id": "-XwjYofp-0Pg",
        "outputId": "c1c1d225-d40f-49f9-cefe-ea516be49c59"
      },
      "execution_count": null,
      "outputs": [
        {
          "output_type": "stream",
          "name": "stdout",
          "text": [
            "[4, 2, 3, 1]\n"
          ]
        }
      ]
    },
    {
      "cell_type": "code",
      "source": [
        "def isPal(s):\n",
        "  return s==s[::-1]\n",
        "\n",
        "\n",
        "s = \"abccb\"\n",
        "ans = isPal(s)\n",
        "if(ans):\n",
        "  print(\"yes\")\n",
        "else:\n",
        "  print(\"No\")"
      ],
      "metadata": {
        "colab": {
          "base_uri": "https://localhost:8080/"
        },
        "id": "26DobwNhAJcZ",
        "outputId": "511e6582-41f2-444c-f2f3-a3a1b6cac554"
      },
      "execution_count": null,
      "outputs": [
        {
          "output_type": "stream",
          "name": "stdout",
          "text": [
            "No\n"
          ]
        }
      ]
    },
    {
      "cell_type": "code",
      "source": [
        "def iSPal(s):\n",
        "  size = int(len(s))\n",
        "  for i in range(0,size/2):\n",
        "    if s[i] != s[size-i-1]:\n",
        "      return False\n",
        "    else:\n",
        "      return True\n",
        "\n",
        "s = \"abcba\"\n",
        "ans = isPal(s)\n",
        "if(ans):\n",
        "  print(\"Yes\")\n",
        "else:\n",
        "  print(\"No\")"
      ],
      "metadata": {
        "colab": {
          "base_uri": "https://localhost:8080/"
        },
        "id": "vcNo64muA6oY",
        "outputId": "25779445-8575-4c90-9751-b90b5a131b00"
      },
      "execution_count": null,
      "outputs": [
        {
          "output_type": "stream",
          "name": "stdout",
          "text": [
            "Yes\n"
          ]
        }
      ]
    },
    {
      "cell_type": "code",
      "source": [
        "def isPal(s):\n",
        "  rev = \"\".join(reversed(s))\n",
        "  if s==rev:\n",
        "    return True\n",
        "\n",
        "s = \"abcba\"\n",
        "ans = isPal(s)\n",
        "if(ans):\n",
        "  print(\"Yes\")\n",
        "else:\n",
        "  print(\"No\")"
      ],
      "metadata": {
        "colab": {
          "base_uri": "https://localhost:8080/"
        },
        "id": "LOJww0vmEdd3",
        "outputId": "36b85a28-fb4f-49fa-f540-795eaa18acf8"
      },
      "execution_count": null,
      "outputs": [
        {
          "output_type": "stream",
          "name": "stdout",
          "text": [
            "Yes\n"
          ]
        }
      ]
    },
    {
      "cell_type": "code",
      "source": [
        "def isPal(s):\n",
        "  l = len(s)\n",
        "\n",
        "  if l<2:\n",
        "    return True\n",
        "  elif s[0] == s[l-1]:\n",
        "    return isPal(s[1:l-1])\n",
        "  else:\n",
        "    return False\n",
        "\n",
        "s = \"abccb\"\n",
        "ans = isPal(s)\n",
        "\n",
        "if(ans):\n",
        "  print(\"Yes\")\n",
        "else:\n",
        "  print(\"No\")"
      ],
      "metadata": {
        "colab": {
          "base_uri": "https://localhost:8080/"
        },
        "id": "1FECqn9mFLN3",
        "outputId": "3d8a09ef-6d19-4f75-d3eb-f5c6e9723219"
      },
      "execution_count": null,
      "outputs": [
        {
          "output_type": "stream",
          "name": "stdout",
          "text": [
            "No\n"
          ]
        }
      ]
    },
    {
      "cell_type": "code",
      "source": [
        "def Merge(dict1, dict2):\n",
        "    return(dict2.update(dict1))\n",
        "\n",
        "dict1 = {'a': 10, 'b': 8}\n",
        "dict2 = {'d': 6, 'c': 4}\n",
        "\n",
        "print(Merge(dict1, dict2))\n",
        "\n",
        "print(dict2)"
      ],
      "metadata": {
        "colab": {
          "base_uri": "https://localhost:8080/"
        },
        "id": "Z1m0Htc7R60y",
        "outputId": "e4fae2fe-47ac-4e6e-f237-bbd2e1d7abbc"
      },
      "execution_count": 6,
      "outputs": [
        {
          "output_type": "stream",
          "name": "stdout",
          "text": [
            "None\n",
            "{'d': 6, 'c': 4, 'a': 10, 'b': 8}\n"
          ]
        }
      ]
    },
    {
      "cell_type": "code",
      "source": [
        "def Merge(dict1, dict2):\n",
        "    res = {**dict1, **dict2}\n",
        "    return res\n",
        "\n",
        "dict1 = {'a': 10, 'b': 8}\n",
        "dict2 = {'d': 6, 'c': 4}\n",
        "dict3 = Merge(dict1, dict2)\n",
        "print(dict3)"
      ],
      "metadata": {
        "colab": {
          "base_uri": "https://localhost:8080/"
        },
        "id": "EMnMPFQCSTjc",
        "outputId": "3d752be6-772f-424c-b292-ac2945aa248d"
      },
      "execution_count": 7,
      "outputs": [
        {
          "output_type": "stream",
          "name": "stdout",
          "text": [
            "{'a': 10, 'b': 8, 'd': 6, 'c': 4}\n"
          ]
        }
      ]
    },
    {
      "cell_type": "code",
      "source": [
        "def remove_duplicates(sentence):\n",
        "    words = sentence.split(\" \")\n",
        "    result = []\n",
        "    for word in words:\n",
        "        if word not in result:\n",
        "            result.append(word)\n",
        "    return \" \".join(result)\n",
        "\n",
        "sentence = \"good morning, good afternoon, good evening\"\n",
        "print(remove_duplicates(sentence))"
      ],
      "metadata": {
        "colab": {
          "base_uri": "https://localhost:8080/"
        },
        "id": "Gh1U__H0S8pY",
        "outputId": "529930ef-cd58-47ef-8b7e-ff5ef2894aca"
      },
      "execution_count": 9,
      "outputs": [
        {
          "output_type": "stream",
          "name": "stdout",
          "text": [
            "good morning, afternoon, evening\n"
          ]
        }
      ]
    },
    {
      "cell_type": "code",
      "source": [
        "A = [64, 25, 12, 22, 11]\n",
        "for i in range(len(A)-1):\n",
        "  min_i = i\n",
        "  for j in range(i+1, len(A)):\n",
        "    if A[min_i] > A[j]:\n",
        "      min_i = j\n",
        "  A[i], A[min_i] = A[min_i], A[i]\n",
        "\n",
        "print (\"Sorted array\")\n",
        "for i in range(len(A)):\n",
        "    print(A[i],end=\" \")"
      ],
      "metadata": {
        "colab": {
          "base_uri": "https://localhost:8080/"
        },
        "id": "5v1--Hxd5KGo",
        "outputId": "c96f3f1c-7236-470a-ac80-216ecbe801c4"
      },
      "execution_count": 3,
      "outputs": [
        {
          "output_type": "stream",
          "name": "stdout",
          "text": [
            "Sorted array\n",
            "11 12 22 25 64 "
          ]
        }
      ]
    },
    {
      "cell_type": "code",
      "source": [],
      "metadata": {
        "id": "0P4OqIZ3jy2E"
      },
      "execution_count": null,
      "outputs": []
    }
  ]
}